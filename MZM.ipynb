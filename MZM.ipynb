{
 "cells": [
  {
   "cell_type": "code",
   "execution_count": 1,
   "metadata": {
    "hide_input": false
   },
   "outputs": [
    {
     "data": {
      "text/html": [
       "\n",
       "<script>\n",
       "    // AUTORUN ALL CELLS ON NOTEBOOK-LOAD!\n",
       "    require(\n",
       "        ['base/js/namespace', 'jquery'], \n",
       "        function(jupyter, $) {\n",
       "            $(jupyter.events).on(\"kernel_ready.Kernel\", function () {\n",
       "                console.log(\"Auto-running all cells-below...\");\n",
       "                jupyter.actions.call('jupyter-notebook:run-all-cells-below');\n",
       "                jupyter.actions.call('jupyter-notebook:save-notebook');\n",
       "            });\n",
       "        }\n",
       "    );\n",
       "</script>\n"
      ],
      "text/plain": [
       "<IPython.core.display.HTML object>"
      ]
     },
     "execution_count": 1,
     "metadata": {},
     "output_type": "execute_result"
    }
   ],
   "source": [
    "from IPython.display import HTML\n",
    "HTML('''\n",
    "<script>\n",
    "    // AUTORUN ALL CELLS ON NOTEBOOK-LOAD!\n",
    "    require(\n",
    "        ['base/js/namespace', 'jquery'], \n",
    "        function(jupyter, $) {\n",
    "            $(jupyter.events).on(\"kernel_ready.Kernel\", function () {\n",
    "                console.log(\"Auto-running all cells-below...\");\n",
    "                jupyter.actions.call('jupyter-notebook:run-all-cells-below');\n",
    "                jupyter.actions.call('jupyter-notebook:save-notebook');\n",
    "            });\n",
    "        }\n",
    "    );\n",
    "</script>\n",
    "''')"
   ]
  },
  {
   "cell_type": "code",
   "execution_count": null,
   "metadata": {},
   "outputs": [],
   "source": [
    "HTML('''\n",
    "<script>\n",
    "  function code_toggle() {\n",
    "    if (code_shown){\n",
    "      $('div.input').hide('500');\n",
    "      $('#toggleButton').val('Show Code')\n",
    "    } else {\n",
    "      $('div.input').show('500');\n",
    "      $('#toggleButton').val('Hide Code')\n",
    "    }\n",
    "    code_shown = !code_shown\n",
    "  }\n",
    "\n",
    "  $( document ).ready(function(){\n",
    "    code_shown=false;\n",
    "    $('div.input').hide()\n",
    "  });\n",
    "</script>\n",
    "<form action=\"javascript:code_toggle()\"><input type=\"submit\" id=\"toggleButton\" value=\"Show Code\"></form>\n",
    ".''')"
   ]
  },
  {
   "cell_type": "markdown",
   "metadata": {
    "hide_input": false
   },
   "source": [
    "# Optical Modualtors - Mach-Zehnder Configuration with a Lateral PN Junction\n",
    "\n",
    "<p style=\"font-size:18px\">\n",
    "This notebook demonstrates peformance metrics for a Mach-Zehnder-type optical modulator with a lateral pn nunction.\n",
    "<p style=\"font-size:18px\">  "
   ]
  },
  {
   "cell_type": "code",
   "execution_count": null,
   "metadata": {
    "hide_input": false
   },
   "outputs": [],
   "source": [
    "from ipywidgets import interact, interactive, FloatSlider, IntSlider, Button, Dropdown, IntProgress, HBox, VBox\n",
    "from IPython.display import display\n",
    "import numpy\n",
    "from numpy import fft\n",
    "from scipy import special, signal\n",
    "from bokeh.io import push_notebook, curdoc\n",
    "from bokeh.themes import Theme\n",
    "from bokeh.plotting import figure, show, output_notebook\n",
    "from bokeh.models import ColumnDataSource, Range1d, LinearAxis, Title, Label, Span, Band, Slider\n",
    "from bokeh.layouts import widgetbox\n",
    "from bokeh.models.widgets import RadioButtonGroup, Select\n",
    "from bokeh.layouts import column, row\n",
    "import yaml\n",
    "\n",
    "output_notebook()\n",
    "\n",
    "curdoc().theme = Theme(json=yaml.load(\"\"\"\n",
    "    attrs:\n",
    "        Figure:\n",
    "            background_fill_color: \"lightgray\"\n",
    "            outline_line_color: black\n",
    "            height: 400\n",
    "            width: 400\n",
    "        Grid:\n",
    "            grid_line_color: white\n",
    "            grid_line_alpha: 0.5\n",
    "        Axis:\n",
    "            axis_label_text_font_size: \"12pt\"\n",
    "            axis_label_text_font_style: \"normal\"\n",
    "            major_label_text_font_size: \"12pt\"\n",
    "            major_label_text_font_style: \"normal\"\n",
    "        Line:\n",
    "            line_alpha: 1\n",
    "            line_width: 1.5\n",
    "        Title:\n",
    "            text_font_style: \"normal\"\n",
    "            text_font_size: \"12pt\"\n",
    "    \"\"\",Loader=yaml.FullLoader))\n",
    "#  Loader=yaml.FullLoader"
   ]
  },
  {
   "cell_type": "markdown",
   "metadata": {},
   "source": [
    "## Principle of Operation"
   ]
  },
  {
   "cell_type": "code",
   "execution_count": null,
   "metadata": {
    "scrolled": true
   },
   "outputs": [],
   "source": [
    "from IPython.core.display import Image\n",
    "Image(url='https://i.imgur.com/wOqqmJl.png',embed=True,width=600)"
   ]
  },
  {
   "cell_type": "markdown",
   "metadata": {},
   "source": [
    "<p style=\"font-size:18px\">\n",
    "Figure 1.\n",
    "<p style=\"font-size:18px\">\n",
    "The basic principle of a Mach-Zehnder optical modulator is that a phase modulaion is used to implement an amplitude modulation. An optical beam is introduced into two arms of the interferometer, as illustrated above. After each beam propagates a geometric distance of length L, the beams are recombined. The beams interfere constructively to give a large output if they are in phase in the output waveguide. The beams radiate away from the waveguide, resulting in a small output if the beams are out of phase in the output waveguide. Charge is injected into one or both of the arms in order to induce a change in the effective index of the waveguide modes and to adjust the relative phase of the beams at the end of the arms.\n",
    "    \n",
    "<p style=\"font-size:18px\">\n",
    "In a typical configuration, the amount of free charge in an interferometer arm is controlled by creating a lateral pn junction with the interface between the p and the n layers located in a rib waveguide, as pictured above. Varying the voltage between the metal contacts varies the depletion width."
   ]
  },
  {
   "cell_type": "markdown",
   "metadata": {},
   "source": [
    "## Numerical Method for Calculating Optical Mode Profiles and Effective Indices"
   ]
  },
  {
   "cell_type": "markdown",
   "metadata": {},
   "source": [
    "<p style=\"font-size:18px\">\n",
    "This notebook uses a finite difference mode solver to profiles and effecive index for the two lowest order modes, TE$_1$ and TM$_1$ for an optical rib waveguide. The finite difference method is used to discretize and solve a Helmholtz equation for the y-x profiles for the two lowest order optical modes (those that have the largest effective indices and corresponding propagation constants). The routine gives magnetic field H values that are larger, relative to the electric field values E, than actual values by the constnat $\\sqrt {{\\mu _0}/{\\varepsilon _0}}$. The linear relationship between H and E means that we can find quantities of interest for an optical modulator (e.g. effective index, contributions to the effective index and modal aborption from free charge) using only the field H."
   ]
  },
  {
   "cell_type": "markdown",
   "metadata": {},
   "source": [
    "<p style=\"font-size:18px\">\n",
    "To solve for waveguide modes we need to solve the Helmholtz equation\n",
    "$$\\frac{{{\\partial ^2}}}{{\\partial {x^2}}}{H_y}(x,y) + \\frac{{{\\partial ^2}}}{{\\partial {y^2}}}{H_y}(x,y + \\left( {{n^2}{k^2} - {\\beta ^2}} \\right){H_y}(x,y) = 0 ,$$\n",
    "an eigenvalue equation that can be rewritten as\n",
    "$$\\underbrace {\\left[ {\\frac{{{\\partial ^2}}}{{\\partial {x^2}}} + \\frac{{{\\partial ^2}}}{{\\partial {y^2}}} + \\left( {{n^2}{k^2} - {\\beta ^2}} \\right)} \\right]}_{{\\rm{Operator}}}{H_y}(x,y) = \\underbrace {{\\beta ^2}}_{{\\rm{Constant}}} \\times \\;{H_y}(x,y).$$\n",
    "This equation is solved numerically by converting it to a matrix equation\n",
    "$$\\left[ {\\begin{array}{*{20}{c}}\n",
    "{{O_{11}}}&{{O_{12}}}&{...}&{{O_{1q}}}\\\\\n",
    "{{O_{21}}}&{{O_{22}}}&{}&{}\\\\\n",
    "{...}&{}&{...}&{}\\\\\n",
    "{{O_{p1}}}&{}&{}&{{O_{pq}}}\n",
    "\\end{array}} \\right]\\left[ {\\begin{array}{*{20}{c}}\n",
    "{H_{11}^y}\\\\\n",
    "{H_{21}^y}\\\\\n",
    "{}\\\\\n",
    "{H_{pq}^y}\n",
    "\\end{array}} \\right] = {\\beta ^2}\\left[ {\\begin{array}{*{20}{c}}\n",
    "{H_{11}^y}\\\\\n",
    "{H_{21}^y}\\\\\n",
    "{}\\\\\n",
    "{H_{pq}^y}\n",
    "\\end{array}} \\right]$$  \n",
    "where the matrix O is the discretized operator and $H^y _{pq}$ are the values of H$_y$ on a spatial grid, as ilustrated below."
   ]
  },
  {
   "cell_type": "code",
   "execution_count": null,
   "metadata": {},
   "outputs": [],
   "source": [
    "from IPython.core.display import Image\n",
    "Image(url='https://i.imgur.com/aMrcyom.png',embed=True,width=400)"
   ]
  },
  {
   "cell_type": "markdown",
   "metadata": {},
   "source": [
    "<p style=\"font-size:18px\">\n",
    "The process by which the operator is discretized includes replacing derivatives with finite differences. For example, the derivate\n",
    "$$\\frac{{\\partial {H_y}\\left( {x,y} \\right)}}{{\\partial x}}$$\n",
    "is assigned values on the grid given by\n",
    "$$H_{ij}^y{{\\kern 1pt} ^\\prime } = \\frac{{H_{i + 1,j}^y - H_{i - 1,j}^y}}{{2\\Delta x}}$$\n",
    "There are mulitple algorithms and many routines available to compute the eigenvalues ($\\beta$) and the eigenvectors ($H_{11}^y,\\;H_{21}^y,\\;\\;...\\;H_{ij}^y...\\;H_{pq}^y$) for this kind of matrix equation. The finite difference mode solver used in this notebook can be accessed at http://lbolla.github.io/EMpy/."
   ]
  },
  {
   "cell_type": "markdown",
   "metadata": {},
   "source": [
    "<p style=\"font-size:18px\">\n",
    "We define a function that gives the refractive index that specifies the waveguide. The function is used to\n",
    "assign values of refractive index on the computational grid. To define the function we need to provide values for the height\n",
    "and width of the rib, and for the height and width of the slab. These values should be given assuming the units are meters."
   ]
  },
  {
   "cell_type": "markdown",
   "metadata": {
    "hide_input": true
   },
   "source": [
    "<p style=\"font-size:18px\">\n",
    "Next we specify the grid points and read in mode profiles on the grid that were simulated previously. Corresponding effective indices and confinement factors are also read in."
   ]
  },
  {
   "cell_type": "code",
   "execution_count": null,
   "metadata": {
    "hide_input": true
   },
   "outputs": [],
   "source": [
    "# Compute the grid\n",
    "xm = numpy.linspace(-1.0e-6, 1.0e-6, 125)\n",
    "ym = numpy.linspace(-1.0e-6, 1.0e-6, 125)\n",
    "xms = numpy.linspace(-1.0e-6, 1.0e-6, 124)\n",
    "yms = numpy.linspace(-1.0e-6, 1.0e-6, 124)\n",
    "IA = numpy.zeros((124,124,12,5,2))\n",
    "neff = numpy.zeros((12,5,2))\n",
    "IA=numpy.load('IA.npy')\n",
    "neff=numpy.load('neff.npy')\n",
    "CF=numpy.load('CF.npy')"
   ]
  },
  {
   "cell_type": "markdown",
   "metadata": {
    "hide_input": false
   },
   "source": [
    "<p style=\"font-size:18px\">\n",
    "Next we create a more dense grid that will be used for calculation of loss and refractive index change and interpolate the mode fields calculated earlier to this larger grid."
   ]
  },
  {
   "cell_type": "code",
   "execution_count": null,
   "metadata": {
    "hide_input": false
   },
   "outputs": [],
   "source": [
    "from scipy import interpolate\n",
    "xa = numpy.linspace(-100e-8,-20e-8,81)\n",
    "xb = numpy.linspace(-199e-9,199e-9,399)\n",
    "xc = numpy.linspace(20e-8,100e-8,81)\n",
    "xml = numpy.concatenate([xa,xb,xc])\n",
    "ya = numpy.linspace(-100e-8,-20e-8,81)\n",
    "yb = numpy.linspace(-199e-9,199e-9,399)\n",
    "yc = numpy.linspace(20e-8,100e-8,81)\n",
    "yml = numpy.concatenate([ya,yb,yc])\n",
    "\n",
    "xxml, yyml = numpy.meshgrid(xml, yml)\n",
    "DXY=numpy.where((numpy.absolute(xxml.T)<=20e-8)*(numpy.absolute(yyml.T)<=20e-8),1,10)\n",
    "\n",
    "IAtemp=numpy.zeros((124,124))\n",
    "IAlarge = numpy.zeros((561,561,12,5,2))\n",
    "\n",
    "\n",
    "for i in range(12):\n",
    "    for j in range(5):\n",
    "        for k in range(2):\n",
    "            IAtemp=IA[:,:,i,j,k]\n",
    "            f=interpolate.interp2d(xms,yms,IAtemp)\n",
    "            IAlarge[:,:,i,j,k] = f(xml,yml)*DXY"
   ]
  },
  {
   "cell_type": "markdown",
   "metadata": {
    "hide_input": false
   },
   "source": [
    "<p style=\"font-size:18px\">\n",
    "Now we define functions that calculate several important quantites for a waveguide with a lateral pn junction as a funcion of doping profiles, waveguide geometry, and applied voltage. Specifically, we define functions for:\n",
    "<p style=\"font-size:18px\">\n",
    "1. Charge distributions\n",
    "<p style=\"font-size:18px\">\n",
    "2. Boundaries for the depletion region\n",
    "<p style=\"font-size:18px\">\n",
    "3. Modal loss\n",
    "<p style=\"font-size:18px\">\n",
    "4. Change in the modal effective index"
   ]
  },
  {
   "cell_type": "code",
   "execution_count": null,
   "metadata": {
    "hide_input": true
   },
   "outputs": [],
   "source": [
    "x_height_rib = 220e-9\n",
    "y_width_slab = 2000e-9\n",
    "def n_high_doping(x_, y_,ribwidth,trench_depth, spacerd,conc):\n",
    "        x_height_slab = x_height_rib-trench_depth\n",
    "        xx, yy = numpy.meshgrid(x_, y_)\n",
    "        return numpy.where((numpy.abs(xx.T-x_height_slab/2) <= x_height_slab/2) * (yy.T < -(ribwidth/2+spacerd)),\n",
    "                conc, 0.0)\n",
    "def p_high_doping(x_, y_,ribwidth,trench_depth,spacerd,conc):\n",
    "        x_height_slab = x_height_rib-trench_depth\n",
    "        xx, yy = numpy.meshgrid(x_, y_)\n",
    "        return numpy.where((numpy.abs(xx.T-x_height_slab/2) <= x_height_slab/2) * (yy.T > (ribwidth/2+spacerd)),\n",
    "                conc, 0.0)\n",
    "def n_low_doping(x_, y_,ribwidth,trench_depth, spacerd,conc):\n",
    "        x_height_slab = x_height_rib-trench_depth\n",
    "        xx, yy = numpy.meshgrid(x_, y_)\n",
    "        return numpy.where((numpy.abs(xx.T-x_height_slab/2) < x_height_slab/2) * (yy.T >= -(ribwidth/2+spacerd))\n",
    "                * (yy.T <= -ribwidth/2) + (0<=xx.T)*(xx.T<=x_height_rib)\n",
    "                * (yy.T > -ribwidth/2) *(yy.T <= 0.0), conc, 0.0)\n",
    "def p_low_doping(x_, y_,ribwidth,trench_depth, spacerd,conc):\n",
    "        x_height_slab = x_height_rib-trench_depth\n",
    "        xx, yy = numpy.meshgrid(x_, y_)\n",
    "        return numpy.where((numpy.abs(xx.T-x_height_slab/2) < x_height_slab/2) * (yy.T <= (ribwidth/2+spacerd))\n",
    "                * (yy.T >= ribwidth/2) + (0<=xx.T)*(xx.T<=x_height_rib)\n",
    "                * (yy.T < ribwidth/2) * (yy.T > 0), conc, 0.0)\n",
    "def doping(x_, y_,ribwidth,trench_depth,spacerd,nlow,nhigh,plow,phigh):\n",
    "        return n_low_doping(x_, y_,ribwidth,trench_depth,spacerd,nlow) \\\n",
    "    +p_low_doping(x_, y_,ribwidth,trench_depth,spacerd,plow) \\\n",
    "        + n_high_doping(x_, y_,ribwidth,trench_depth,spacerd,nhigh) \\\n",
    "        + p_high_doping(x_, y_,ribwidth,trench_depth,spacerd,phigh)\n",
    "def depl_boundary(nlow, plow, V):\n",
    "    kB=1.38e-23; q=1.602e-19; T=300; ni=1.5e16; ep0=8.854e-12; eps=11.9\n",
    "    Vbi=(kB*T/q)*numpy.log(plow*nlow/ni**2)\n",
    "    Wd=numpy.sqrt(2*ep0*eps*(nlow+plow)*(Vbi-V)/(q*nlow*plow)*1e-6)\n",
    "    return -Wd/(1+(plow/nlow)), Wd/(1+(nlow/plow))\n",
    "\n",
    "def alpha(x_,y_,V,nlow,plow, nhigh, phigh, ribwidth,trench_depth, spacerd,wl):\n",
    "    x_height_slab = x_height_rib-trench_depth\n",
    "    kB=1.38e-23; q=1.602e-19; T=300; ni=1.5e16; ep0=8.854e-12; eps=11.9\n",
    "    xx, yy = numpy.meshgrid(x_, y_)\n",
    "    Vbi=(kB*T/q)*numpy.log(plow*nlow/ni**2)\n",
    "    global Wd\n",
    "    Wd=numpy.sqrt(2*ep0*eps*(nlow+plow)*(Vbi-V)/(q*nlow*plow)*1e-6)\n",
    "    yp=Wd/(1+(plow/nlow))\n",
    "    yn=-Wd/(1+(nlow/plow))\n",
    "    np0=ni**2/plow\n",
    "    pn0=ni**2/nlow\n",
    "    npp0=ni**2/phigh\n",
    "    pnn0=ni**2/nhigh   \n",
    "    ypp=ribwidth/2+spacerd\n",
    "    ynn=-ribwidth/2-spacerd\n",
    "    def n_lin(yl_):\n",
    "#       return np0*(1+(1-(yp-yl_)/(yp-ypp))*(numpy.exp(q*V/kB/T)-1))\n",
    "#        return yl_*(np0/(ypp-yp))-yp/(yp+ypp)\n",
    "        return np0\n",
    "    def p_lin(yl_):\n",
    "#        return pn0*(1+(1-(yl_-yn)/(ynn-yn))*(numpy.exp(q*V/kB/T)-1))\n",
    "#        return yl_*(pn0/(yn-ynn))-yn/(yn+ynn)\n",
    "        return pn0\n",
    "    def alpha_np(n,p):\n",
    "#        return 3.52e-6*wl**2*n+2.4e-6*wl**2*p\n",
    "        return 8.88e-21*n**1.167+5.84e-20*p**1.109\n",
    "\n",
    "    return ((numpy.where((yy.T>=ypp)*(0.0<=xx.T)*(xx.T<x_height_slab ), alpha_np(npp0,phigh), 0)\n",
    "            + numpy.where((yy.T<ypp)*(yy.T>ribwidth/2)*(0.0<=xx.T)*(xx.T<x_height_slab), alpha_np(0,plow), 0)\n",
    "            + numpy.where((yy.T<=ribwidth/2)*(yy.T>=0)*(0.0<=xx.T)*(xx.T<x_height_rib), alpha_np(0,plow), 0)\n",
    "            + numpy.where((yy.T<0)*(yy.T>=-ribwidth/2)*(0.0<=xx.T)*(xx.T<x_height_rib), alpha_np(nlow,0), 0)\n",
    "            + numpy.where((yy.T<-ribwidth/2)*(yy.T>ynn)*(0.0<=xx.T)*(xx.T<x_height_slab ), alpha_np(nlow,0), 0)\n",
    "            + numpy.where((yy.T<=ynn)*(0.0<=xx.T)*(xx.T<x_height_slab), alpha_np(nhigh,pnn0), 0))\n",
    "            * numpy.where((yn<yy.T)*(yy.T<yp),0,1))\n",
    "\n",
    "def delta_n(x_,y_,V,nlow,plow, nhigh, phigh, ribwidth,trench_depth, spacerd,wl):\n",
    "    x_height_slab = x_height_rib-trench_depth\n",
    "    kB=1.38e-23; q=1.602e-19; T=300; ni=1.5e16; ep0=8.854e-12; eps=11.9\n",
    "    xx, yy = numpy.meshgrid(x_, y_)\n",
    "    Vbi=(kB*T/q)*numpy.log(plow*nlow/ni**2)\n",
    "    Wd=numpy.sqrt(2*ep0*eps*(nlow+plow)*(Vbi-V)/(q*nlow*plow)*1e-6)\n",
    "    yp=Wd/(1+(plow/nlow))\n",
    "    yn=-Wd/(1+(nlow/plow))\n",
    "    np0=ni**2/plow\n",
    "    pn0=ni**2/nlow\n",
    "    npp0=ni**2/phigh\n",
    "    pnn0=ni**2/nhigh   \n",
    "    ypp=ribwidth/2+spacerd\n",
    "    ynn=-ribwidth/2-spacerd\n",
    "    def n_lin(yl_):\n",
    "#        return np0*(1+(1-(yp-yl_)/(yp-ypp))*(numpy.exp(q*V/kB/T)-1))\n",
    "        return np0\n",
    "    def p_lin(yl_):\n",
    "#        return numpy.absolute(pn0*(1+(1-(yl_-yn)/(ynn-yn))*(numpy.exp(q*V/kB/T)-1)))\n",
    "        return pn0\n",
    "    def delta_n_np(n,p):\n",
    "        return -5.4e-22*n**1.011-1.53e-18*p**0.838\n",
    "#       return -3.64e-10*wl**2*n-3.51e-6*wl**2*p**0.8\n",
    "\n",
    "    return ((numpy.where((yy.T>=ypp)*(0.0<=xx.T)*(xx.T<x_height_slab ), delta_n_np(npp0,phigh), 0)\n",
    "            + numpy.where((yy.T<ypp)*(yy.T>ribwidth/2)*(0.0<=xx.T)*(xx.T<x_height_slab), delta_n_np(0,plow), 0)\n",
    "            + numpy.where((yy.T<=ribwidth/2)*(yy.T>=0)*(0.0<=xx.T)*(xx.T<x_height_rib), delta_n_np(0,plow), 0)\n",
    "            + numpy.where((yy.T<0)*(yy.T>=-ribwidth/2)*(0.0<=xx.T)*(xx.T<x_height_rib), delta_n_np(nlow,0), 0)\n",
    "            + numpy.where((yy.T<-ribwidth/2)*(yy.T>ynn)*(0.0<=xx.T)*(xx.T<x_height_slab ), delta_n_np(nlow,0), 0)\n",
    "            + numpy.where((yy.T<=ynn)*(0.0<=xx.T)*(xx.T<x_height_slab), delta_n_np(nhigh,pnn0), 0))\n",
    "            * numpy.where((yn<yy.T)*(yy.T<yp),0,1))"
   ]
  },
  {
   "cell_type": "code",
   "execution_count": null,
   "metadata": {
    "hide_input": true,
    "scrolled": true
   },
   "outputs": [],
   "source": [
    "from IPython.core.display import Image\n",
    "Image(url='https://i.imgur.com/m0uXmrY.png',embed=True,width=600)"
   ]
  },
  {
   "cell_type": "markdown",
   "metadata": {},
   "source": [
    "<p style=\"font-size:18px\">\n",
    "Figure 2.\n",
    "<p style=\"font-size:18px\">\n",
    "The geometry for a silicon photonic optical waveguide with a lateral pn junction. For this analysis in this notebook we will take the trench dept to be 110 nm."
   ]
  },
  {
   "cell_type": "code",
   "execution_count": null,
   "metadata": {
    "hide_input": true,
    "scrolled": false
   },
   "outputs": [],
   "source": [
    "nlow=1e17; plow=1e17; nhigh=1e19; phigh=1e19\n",
    "\n",
    "# Set up figure p\n",
    "p = figure(x_range=(-1,1), y_range=(-1,1), height=400, width=400)\n",
    "p.xaxis.axis_label = \"Horizontal Position (micron)\"\n",
    "p.yaxis.axis_label = \"Vertical Position (micron)\"\n",
    "\n",
    "# Plot in figure p\n",
    "source = ColumnDataSource({'image': [IA[:,:,0,2,0]]})   \n",
    "stsource = ColumnDataSource(dict(x=[-1.0, -0.1, 0.1, 1.0], y=[0.11, 0.22, 0.11, 0.11]))\n",
    "p.image(image='image', x=-1, y=-1, dw=2, dh=2, palette=\"Magma256\", source=source)\n",
    "p.line([-1.0, 1.0], [0.0, 0.0], line_color='white', line_width=1)\n",
    "p.step('x', 'y', line_color='white', line_width=1, mode='after', source=stsource)\n",
    "DWl_data = {'x':[depl_boundary(nlow,plow,0)[0]*1e6,depl_boundary(nlow,plow,0)[0]*1e6], 'y':[-0.1,0.3]}\n",
    "DWl_source=ColumnDataSource(DWl_data)\n",
    "DWr_data = {'x':[depl_boundary(nlow,plow,0)[1]*1e6,depl_boundary(nlow,plow,0)[1]*1e6], 'y':[-0.1,0.3]}\n",
    "DWr_source=ColumnDataSource(DWr_data)\n",
    "p.line('x', 'y', source=DWl_source, line_color=\"white\", line_width=1, line_dash='4',\n",
    "       legend_label='Depletion Region Boundaries')\n",
    "p.line('x', 'y', source=DWr_source, line_color=\"white\", line_width=1, line_dash='4')\n",
    "p.legend.location = \"bottom_center\"\n",
    "p.legend.label_text_color = \"white\"\n",
    "p.legend.label_text_font_size = \"12pt\"\n",
    "p.legend.background_fill_alpha = 0\n",
    "p.legend.border_line_alpha = 0\n",
    "p.yaxis.major_label_text_font_size = \"12pt\"\n",
    "\n",
    "# Add Labels to p\n",
    "nefflabel = Label(x=10, y=300, x_units='screen', y_units='screen', text_color='white',\n",
    "                 text='neff = {}'.format(\"%.3f\" % neff[0,0,0]), render_mode='css')\n",
    "p.add_layout(nefflabel)\n",
    "CFlabel = Label(x=10, y=280, x_units='screen', y_units='screen', text_color='white',\n",
    "            text='Confinement Factor = {}'.format(\"%.3f\" % CF[0,0,0]), render_mode='css')\n",
    "p.add_layout(CFlabel)\n",
    "\n",
    "# Set up figure pI\n",
    "pI = figure(x_range=(-1,1), y_range=(-1,1), height=400, width=400)\n",
    "pI.xaxis.axis_label = \"Horizontal Position (micron)\"\n",
    "pI.yaxis.axis_label = \"Vertical Position (micron)\"\n",
    "\n",
    "# Plot in figure pI\n",
    "dI = doping(xms,yms,200e-9,110e-9,100e-9,3,1,8,11)\n",
    "dsource = ColumnDataSource({'image': [dI]})\n",
    "pI.image(image='image', x=-1, y=-1, dw=2, dh=2, palette=\"RdYlBu11\", source=dsource)\n",
    "pI.line([-1.0, 1.0], [0.0, 0.0], line_color='white', line_width=1)\n",
    "pI.step('x', 'y', line_color='white', line_width=1, mode='after', source=stsource)\n",
    "\n",
    "pI.line('x', 'y', source=DWl_source, line_color=\"white\", line_width=1, line_dash='4',\n",
    "        legend_label='Depletion Region Boundaries')\n",
    "pI.line('x', 'y', source=DWr_source, line_color=\"white\", line_width=1, line_dash='4')\n",
    "pI.legend.location = \"bottom_center\"\n",
    "pI.legend.label_text_color = \"white\"\n",
    "pI.legend.label_text_font_size = \"12pt\"\n",
    "pI.legend.background_fill_alpha = 0\n",
    "pI.legend.border_line_alpha = 0\n",
    "\n",
    "# Add labels to figure pI\n",
    "doping_label = Label(x=16, y=130, x_units='screen', y_units='screen', text_color='white',\n",
    "                 text='n+=1e19 ,' + ' n=1e17,' + ' p=1e17,' + ' p+=1e19', render_mode='css')\n",
    "pI.add_layout(doping_label)\n",
    "loss = 4.34*(numpy.sum(alpha(xml,yml,0,nlow,plow,nhigh,phigh,200e-9,110e-9,100e-9,1.55e-6)*IAlarge[:,:,0,2,0])/\n",
    "        numpy.sum(IAlarge[:,:,0,2,0]))\n",
    "losslabel = Label(x=10, y=300, x_units='screen', y_units='screen', text_color='white',\n",
    "                 text='Loss = {}'.format(\"%.1f\" % loss) + ' [dB/cm]', render_mode='css')\n",
    "pI.add_layout(losslabel)\n",
    "delta_delta_n = 0.0\n",
    "ddn_label = Label(x=10, y=280, x_units='screen', y_units='screen', text_color='white',\n",
    "        text='Delta n = {}'.format(\"%.2e\" % delta_delta_n), render_mode='css')\n",
    "pI.add_layout(ddn_label)\n",
    "\n",
    "# *** Define sliders ***\n",
    "slider_style = {'description_width': 'initial'}\n",
    "slider=FloatSlider(min=200, max=750, step=50, value=200, description='Rib Width (nm)',\n",
    "                            style=slider_style, continuous_update=True)\n",
    "Trench_slider=FloatSlider(min=60, max=150.0, step=25, value = 110.0, description='Trench Depth (nm)', continuous_update=True,\n",
    "                            style = {'description_width': '109px'}, layout={'width': '325px'})\n",
    "spacer_slider=FloatSlider(min=0, max=600, step=50, value=100, description='High Doping Offset (nm)',\n",
    "                            style = {'description_width': '140px'}, layout={'width': '356px'}, continuous_update=True)\n",
    "V_slider=FloatSlider(min=-4, max=0, step=0.4, value=0, description='Voltage (V)',\n",
    "                            style=slider_style, continuous_update=True)\n",
    "wavelength_select = Dropdown(options=['1.3', '1.55'], value='1.55',\n",
    "                            style=slider_style, description='Wavelength (micron)', disabled=False)\n",
    "\n",
    "def replot(slider_value, spacer_value, V_value, wavelength_value):\n",
    "    Trench_value=110\n",
    "    j=round((slider.value-200)/50)\n",
    "    k=round((Trench_value-60)/25)\n",
    "    temp=wavelength_select.value\n",
    "    wl=float(wavelength_select.value[:3])*1e-6\n",
    "    global m\n",
    "    if wl < 1.4e-6:\n",
    "        m=round(0)\n",
    "    else:\n",
    "        m=round(1)\n",
    "    source.data = {'image':[IA[:,:,j,k,m]]}\n",
    "    stsource.data={'x': [-1.0, -slider.value/2000, slider.value/2000, 1.0], \\\n",
    "            'y': [0.22-Trench_slider.value*1e-3, 0.22, 0.22-Trench_value*1e-3,0.22-Trench_value*1e-3]}\n",
    "    nefflabel.text = 'neff = {}'.format(\"%.3f\" % neff[j,k,m])\n",
    "    CFlabel.text = 'Confinement Factor = {}'.format(\"%.3f\" % CF[j,k,m])\n",
    "    dsource.data={'image':[doping(xms,yms,slider.value*1e-9,Trench_value*1e-9, spacer_slider.value*1e-9,3,1,8,11)]}\n",
    "    DWl_source.data=({'x':[depl_boundary(nlow,plow,V_slider.value)[0]*1e6,depl_boundary(nlow,plow,V_slider.value)[0]*1e6],\n",
    "                     'y':[-0.1,0.3]})\n",
    "    DWr_source.data=({'x':[depl_boundary(nlow,plow,V_slider.value)[1]*1e6,depl_boundary(nlow,plow,V_slider.value)[1]*1e6],\n",
    "                     'y':[-0.1,0.3]})\n",
    "    loss0 = 4.34*(numpy.sum(alpha(xml,yml,0,nlow,plow,1e19,1e19,slider.value*1e-9,Trench_value*1e-9,\n",
    "            spacer_slider.value*1e-9,wl)*IAlarge[:,:,j,k,m])/numpy.sum(IAlarge[:,:,j,k,m]))\n",
    "    loss = 4.34*(numpy.sum(alpha(xml,yml,V_slider.value,nlow,plow,1e19,1e19,slider.value*1e-9,Trench_value*1e-9,\n",
    "            spacer_slider.value*1e-9,wl)*IAlarge[:,:,j,k,m])/numpy.sum(IAlarge[:,:,j,k,m]))\n",
    "    losslabel.text = 'Loss = {}'.format(\"%.2f\" % loss) + 'dB/cm' \n",
    "    delta_delta_n = (numpy.sum((delta_n(xml,yml,V_slider.value,nlow,plow,1e19,1e19,\n",
    "                        slider.value*1e-9,Trench_value*1e-9,spacer_slider.value*1e-9,wl)\n",
    "                        -delta_n(xml,yml,0,nlow,plow,1e19,1e19,slider.value*1e-9,Trench_value*1e-9,\n",
    "                        spacer_slider.value*1e-9,wl))*IAlarge[:,:,j,k,m])/numpy.sum(IAlarge[:,:,j,k,m]))\n",
    "    ddn_label.text = 'Delta n = {}'.format(\"%.2e\" % delta_delta_n)\n",
    "    push_notebook(handle=fig_handle)\n",
    "\n",
    "fig_handle = show(row(p,pI), notebook_handle=True)\n",
    "interact(replot, slider_value=slider, Trench_value=Trench_slider,\n",
    "         spacer_value=spacer_slider, V_value=V_slider, wavelength_value=wavelength_select);"
   ]
  },
  {
   "cell_type": "markdown",
   "metadata": {
    "hide_input": true
   },
   "source": [
    "<p style=\"font-size:18px\">\n",
    "Figure 3. Left: The optical mode intensity in optical waveguides. Right: Doping profiles for the laterial pn junction. Use these interactive charts to see how the geometry of a waveguide with a lateral pn junction affects the loss and refractive-index change that can be acheived by applying a voltage to the junction."
   ]
  },
  {
   "cell_type": "code",
   "execution_count": null,
   "metadata": {},
   "outputs": [],
   "source": [
    "from IPython.core.display import Image\n",
    "Image(url='https://i.imgur.com/UCZcFbi.png',embed=True,width=600)"
   ]
  },
  {
   "cell_type": "markdown",
   "metadata": {},
   "source": [
    "<p style=\"font-size:18px\">\n",
    "Figure 4. An optical modualtor with a Mach-Zehnder configuration. Each arm of the modulator/interferometer has a geometric length of L. A voltage is applied to the pn junction in one of the two arms to achieve modulation. Directional couplers can also be used at the input and output of the modulator. The relative phase of the two arms can also be adjusted to achieve the highest possible extinction ratio."
   ]
  },
  {
   "cell_type": "code",
   "execution_count": null,
   "metadata": {
    "hide_input": true
   },
   "outputs": [],
   "source": [
    "L_slider = FloatSlider(min=2, max=8, step=0.25, value=2, description='Modulator Arm Length (mm)',\n",
    "                   style = {'description_width': '180px'}, layout={'width': '410px'})\n",
    "doping_select = Dropdown(options=[\"1e17\", \"5e17\", \"1e18\"], value=\"1e17\",\n",
    "                    description='Doping ' + r'\\(cm^{-3}\\)', disabled=False,\n",
    "                   style = {'description_width': '100px'}, layout={'width': '240px'})\n",
    "phi_slider=FloatSlider(min=-90, max=90, step=1, value=0, description='Initial Relative Phase Between Arms (degrees)',\n",
    "                       style = {'description_width': '270px'}, layout={'width': '530px'},\n",
    "                        continuous_update=True)\n",
    "\n",
    "j=round((450-200)/50)\n",
    "k=round((110-60)/25)\n",
    "temp=wavelength_select.value\n",
    "wl=1.55*1e-6\n",
    "if wl < 1.4e-6:\n",
    "    m=round(0)\n",
    "else:\n",
    "    m=round(1)\n",
    "L = 2; phi = 0\n",
    "loss0 = 4.34*(numpy.sum(alpha(xml,yml,0,nlow,plow,1e19,1e19,450*1e-9,110*1e-9,\n",
    "                600*1e-9,wl)*IAlarge[:,:,j,k,m])/numpy.sum(IAlarge[:,:,j,k,m]))\n",
    "loss = 4.34*(numpy.sum(alpha(xml,yml,-4,nlow,plow,1e19,1e19,450*1e-9,110*1e-9,\n",
    "                600*1e-9,wl)*IAlarge[:,:,j,k,m])/numpy.sum(IAlarge[:,:,j,k,m]))\n",
    "\n",
    "V = numpy.linspace(0,-4,31)\n",
    "loss_V = numpy.zeros((3,31))\n",
    "delta_delta_n_V = numpy.zeros((3,31))\n",
    "npconc=numpy.linspace(1e17,1e18,3)\n",
    "\n",
    "for i in range(3):\n",
    "    for n in range(31):\n",
    "        delta_delta_n_V[i,n] = (numpy.sum((delta_n(xml,yml,V[n],npconc[i],npconc[i],1e19,1e19,\n",
    "                    450*1e-9,110*1e-9,600*1e-9,wl)\n",
    "                    -delta_n(xml,yml,0,npconc[i],npconc[i],1e19,1e19,450*1e-9,110*1e-9,\n",
    "                    600*1e-9,wl))*IAlarge[:,:,j,k,m])/numpy.sum(IAlarge[:,:,j,k,m]))\n",
    "        loss_V[i,n] = (numpy.sum(alpha(xml,yml,V[n],npconc[i],npconc[i],1e19,1e19,450*1e-9,110*1e-9,\n",
    "                    600*1e-9,wl)*IAlarge[:,:,j,k,m])/numpy.sum(IAlarge[:,:,j,k,m]))\n",
    "\n",
    "T_V = ((0.5-0.5*numpy.cos(2*numpy.pi*delta_delta_n_V[0,:]*L*1e-3/wl)\n",
    "                        *numpy.exp(-loss_V[0,:]/4.34*L/10))**2*numpy.exp(-3*L/10))\n",
    "\n",
    "TV_data = {'x':V, 'y':T_V}\n",
    "TV_source=ColumnDataSource(TV_data)\n",
    "    \n",
    "pT = figure(x_range=(0,-4), height=400, width=900)\n",
    "pT.line('x', 'y', source=TV_source, line_color='darkblue')\n",
    "pT.xaxis.axis_label = \"Applied Voltage (V)\"\n",
    "pT.yaxis.axis_label = \"Modulator Transmission\"\n",
    "pT.y_range = Range1d(0,0.35)\n",
    "\n",
    "def rhon(p):\n",
    "    return 0.24756-5.0567e-19*n+3.0111e-31*n**2\n",
    "def rhop(n):\n",
    "    return 0.11106-2.2417e-19*n+1.3611e-37*n**2\n",
    "\n",
    "Rn_x_length = (rhon(nlow)/(220e-7-110*1e-7)*max((600*1e-7\n",
    "        +450/2*1e-7+depl_boundary(nlow, plow, -4)[0]),0))\n",
    "Rp_x_length = (rhop(plow)/(220e-7-110*1e-7)*max((600*1e-7\n",
    "        +450/2*1e-7-depl_boundary(nlow, plow, -4)[1]),0))\n",
    "R_x_length = Rn_x_length + Rp_x_length\n",
    "R_label = Label(x=10, y=310, x_units='screen', y_units='screen', text_color='black',\n",
    "        text='Resistance = {}'.format(\"%.1e\" % R_x_length)+ ' [ohm-cm]', render_mode='css')\n",
    "pT.add_layout(R_label)\n",
    "\n",
    "kB=1.38e-23; q=1.602e-19; T=300; ni=1.5e16; ep0=8.854e-12; eps=11.9\n",
    "Vbi=(kB*T/q)*numpy.log(plow*nlow/ni**2)\n",
    "Cap = 220e-9*numpy.sqrt((q*ep0*eps)/(2*(1/nlow+1/plow)*1e-6*(Vbi+4)))*1e-2\n",
    "f = 1/(2*numpy.pi*R_x_length*Cap)*1e-9\n",
    "C_label = Label(x=10, y=290, x_units='screen', y_units='screen', text_color='black',\n",
    "        text='Capacitance = {}'.format(\"%.1e\" % Cap)+ ' [F/cm]', render_mode='css')\n",
    "pT.add_layout(C_label)\n",
    "f_label = Label(x=10, y=270, x_units='screen', y_units='screen', text_color='black',\n",
    "        text='Bandwidth @ -4V = {}'.format(\"%.1f\" % f)+ ' [GHz]', render_mode='css')\n",
    "pT.add_layout(f_label)\n",
    "\n",
    "\n",
    "def replot2(Lnew,npconc):\n",
    "    if npconc == '1e18':\n",
    "        i = 2\n",
    "        npnew=1e18\n",
    "    elif npconc == '5e17':\n",
    "        i = 1\n",
    "        npnew=5e17\n",
    "    else:\n",
    "        i = 0\n",
    "        npnew=1e17\n",
    "    phi_new = phi_slider.value*numpy.pi/180\n",
    "    TV_source.data = {'x':V,\n",
    "                        'y':((0.5*numpy.cos(phi_new)-0.5*numpy.cos(2*numpy.pi*delta_delta_n_V[i,:]*Lnew*1e-3/wl)\n",
    "                        *numpy.exp(-loss_V[i,:]/4.34*Lnew/10))**2*numpy.exp(-3*Lnew/10))}\n",
    "    Rn_x_length = (rhon(npnew)/(220e-7-110*1e-7)*max((600*1e-7\n",
    "            +450/2*1e-7+depl_boundary(npnew, npnew, -4)[0]),0))\n",
    "    Rp_x_length = (rhop(npnew)/(220e-7-110*1e-7)*max((600*1e-7\n",
    "        +450/2*1e-7-depl_boundary(npnew, npnew, -4)[1]),0))\n",
    "    R_x_length = Rn_x_length + Rp_x_length\n",
    "    R_label.text = 'Resistance = {}'.format(\"%.1e\" %R_x_length)+ ' [ohm-cm]'\n",
    "    Cap = 220e-9*numpy.sqrt((q*ep0*eps)/(2*(1/npnew+1/npnew)*1e-6*(Vbi+4)))*1e-2\n",
    "    C_label.text = 'Capacitance = {}'.format(\"%.1e\" % Cap)+ ' [F/cm]'\n",
    "    f = 1/(2*numpy.pi*R_x_length*Cap)*1e-9\n",
    "    f_label.text='Bandwidth @ -4V = {}'.format(\"%.1f\" % f)+ ' [GHz]'  \n",
    "\n",
    "    push_notebook(handle=fig_handle2)\n",
    "\n",
    "fig_handle2 = show(pT, notebook_handle=True)\n",
    "interact(replot2, Lnew=L_slider, npconc=doping_select);"
   ]
  },
  {
   "cell_type": "markdown",
   "metadata": {
    "hide_input": false
   },
   "source": [
    "<p style=\"font-size:18px\">\n",
    "Figure 5. Modulator transmission versus applied voltage. Calculations are made with a rib widht of 450 nm, a high-doping offeset of 600 nm, and a wavelength of 1.55 micron.Select different doping levels and adjust the arms for maximum modulator transmission. Examine how modulation depth and electrical bandwidth vary with doping."
   ]
  }
 ],
 "metadata": {
  "hide_input": false,
  "kernelspec": {
   "display_name": "Python 3",
   "language": "python",
   "name": "python3"
  },
  "language_info": {
   "codemirror_mode": {
    "name": "ipython",
    "version": 3
   },
   "file_extension": ".py",
   "mimetype": "text/x-python",
   "name": "python",
   "nbconvert_exporter": "python",
   "pygments_lexer": "ipython3",
   "version": "3.6.10"
  },
  "varInspector": {
   "cols": {
    "lenName": 16,
    "lenType": 16,
    "lenVar": 40
   },
   "kernels_config": {
    "python": {
     "delete_cmd_postfix": "",
     "delete_cmd_prefix": "del ",
     "library": "var_list.py",
     "varRefreshCmd": "print(var_dic_list())"
    },
    "r": {
     "delete_cmd_postfix": ") ",
     "delete_cmd_prefix": "rm(",
     "library": "var_list.r",
     "varRefreshCmd": "cat(var_dic_list()) "
    }
   },
   "types_to_exclude": [
    "module",
    "function",
    "builtin_function_or_method",
    "instance",
    "_Feature"
   ],
   "window_display": false
  }
 },
 "nbformat": 4,
 "nbformat_minor": 2
}
